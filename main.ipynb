{
 "cells": [
  {
   "cell_type": "code",
   "execution_count": 2,
   "id": "18755fa7-522a-4c0b-8f9b-df1fe0a01cd8",
   "metadata": {},
   "outputs": [],
   "source": [
    "from typing import Callable\n",
    "import numpy, math"
   ]
  },
  {
   "cell_type": "markdown",
   "id": "c009eaa6-b4a8-4319-a3ec-340b761ee707",
   "metadata": {},
   "source": [
    "# Problem 4\n",
    "\n",
    "Write a `MATLAB` funcion, called `bisection_method` that takes as inputs a function $f$, two numbers $a$, $b$, an error tolerance, `tol`, and a maximum number of iterations, $N$, and finds a root $c$ of $f$ in the interval $[a , b]$ using the bisection method. Your function should compute a bound on the error, and stop when the error is less than the tolerance, or if the number of iterations exceeds $N$ - whichever happens first."
   ]
  },
  {
   "cell_type": "markdown",
   "id": "4648778a-65ac-4f64-981a-d92bf56652c1",
   "metadata": {},
   "source": [
    "## Function Definition"
   ]
  },
  {
   "cell_type": "code",
   "execution_count": 3,
   "id": "6a9026c0-d868-49c1-a0d9-910d4783f601",
   "metadata": {},
   "outputs": [],
   "source": [
    "# function assumes max iterations is 100 if another maximum is not provided\n",
    "def bisection_method(f: Callable, a: float, b: float, tol: float, N: int = 100) -> (float, int, float):\n",
    "    # make sure a, b, and tol are floats\n",
    "    numbers = [int, float]\n",
    "    if(type(a) not in numbers or type(b) not in numbers or type(tol) not in numbers):\n",
    "        print(\"a, b, and tol must be numbers\")\n",
    "        return\n",
    "\n",
    "    # make sure N is an integer\n",
    "    if(type(N) != int or N < 1):\n",
    "        print(\"N must be a natural number.\")\n",
    "        return\n",
    "\n",
    "    # make sure f(x) is callable\n",
    "    if(not callable(f)):\n",
    "        print(\"f(x) must be callable (e.g., a function)\")\n",
    "        return\n",
    "\n",
    "    # make sure bisection method is cool\n",
    "    if(f(a) * f(b) > 0):\n",
    "        return\n",
    "\n",
    "    # start iterating\n",
    "    err = (b - a) / 2\n",
    "    for i in range(N):\n",
    "        # start evaluating at the halfway point\n",
    "        c = (a + b) / 2\n",
    "        \n",
    "        # if we're in the tolerance range, exit the function\n",
    "        if(err < tol):\n",
    "            return(c, i + 1, err)\n",
    "\n",
    "        # if f(c) == 0, we found a root\n",
    "        if(f(c) == 0):\n",
    "            return(c, i + 1, err)\n",
    "\n",
    "        # otherwise, narrow down the search range\n",
    "        if(f(a) * f(c) < 0):\n",
    "            b = c\n",
    "        else:\n",
    "            a = c\n",
    "        err = (b - a) / 2\n",
    "\n",
    "    # if we exceeded maximum iterations, just return what we \n",
    "    # found\n",
    "    # if I were putting this in some larger code base, I would \n",
    "    # probably include whether we exceeded the maximum\n",
    "    # iterations in the return value, since the function might\n",
    "    # get used in a way such that the user can't be expected to\n",
    "    # look at the terminal (e.g., as a module)\n",
    "    # ---------------------------------------------------------\n",
    "    print(\"Maximum iterations exceeded.\")\n",
    "    return(c, i, err)"
   ]
  },
  {
   "cell_type": "markdown",
   "id": "e1b7ba0a-823f-4b4e-890a-eb8861973ec7",
   "metadata": {},
   "source": [
    "## Problem 4(c)"
   ]
  },
  {
   "cell_type": "code",
   "execution_count": 4,
   "id": "6ad25e01-322f-4395-bfe1-fc754cddd4c4",
   "metadata": {},
   "outputs": [],
   "source": [
    "f = lambda x: (2*x**3 + 3*x - 1)*math.cos(x) - x\n",
    "a = -1\n",
    "b = 1\n",
    "tol = 1e-5 # python allows E notation for floats\n",
    "\n",
    "root, iterations, error = bisection_method(f, a, b, tol)"
   ]
  },
  {
   "cell_type": "markdown",
   "id": "952cb844-422c-4cbe-81fc-ae85859dd031",
   "metadata": {},
   "source": [
    "### Problem 4(c.i)\n",
    "\n",
    "What is the number, $n$, of iterations used?"
   ]
  },
  {
   "cell_type": "code",
   "execution_count": 5,
   "id": "f92d6a64-83db-4a7d-91aa-469e4277e1f3",
   "metadata": {},
   "outputs": [
    {
     "data": {
      "text/plain": [
       "18"
      ]
     },
     "execution_count": 5,
     "metadata": {},
     "output_type": "execute_result"
    }
   ],
   "source": [
    "iterations"
   ]
  },
  {
   "cell_type": "markdown",
   "id": "d538ad3d-8922-4f52-8554-96c4d509191c",
   "metadata": {},
   "source": [
    "### Problem 4(c.ii)\n",
    "\n",
    "What is the error bound?"
   ]
  },
  {
   "cell_type": "code",
   "execution_count": 6,
   "id": "89a46cd0-9b53-40e7-bad8-eb4c6ea2414b",
   "metadata": {},
   "outputs": [
    {
     "data": {
      "text/plain": [
       "7.62939453125e-06"
      ]
     },
     "execution_count": 6,
     "metadata": {},
     "output_type": "execute_result"
    }
   ],
   "source": [
    "error"
   ]
  },
  {
   "cell_type": "markdown",
   "id": "28cad282-a316-4a18-9c32-f184deac1c2c",
   "metadata": {},
   "source": [
    "This is approximately equivalent to $7.6294 \\times 10^{-6}$"
   ]
  },
  {
   "cell_type": "markdown",
   "id": "66101369-228b-427b-b574-d9dfd3dfb140",
   "metadata": {},
   "source": [
    "### Problem 4(c.iii)\n",
    "\n",
    "The expected rate of convergence for the bisection method can be expressed as $|x_n - c| \\leq \\frac{b - a}{2^n}$ where $n \\in \\mathbb{N}$. The big-O notation for this is $O(2^{-n})$"
   ]
  },
  {
   "cell_type": "markdown",
   "id": "06035295-42e6-4147-a923-7617c3ace4c2",
   "metadata": {},
   "source": [
    "## Problem 4(c.iv)"
   ]
  },
  {
   "cell_type": "code",
   "execution_count": 6,
   "id": "b2af3e85-f09f-4891-aa50-5bc41e2bca6a",
   "metadata": {},
   "outputs": [],
   "source": [
    "# plotting; come back to this"
   ]
  },
  {
   "cell_type": "markdown",
   "id": "52ecef68-a052-4132-b0e8-7780d753f1f3",
   "metadata": {},
   "source": [
    "# Problem 5\n",
    "\n",
    "Write a `MATLAB` function, called `fixed_point_method` that takes as inputs a function, $g$, an initial guess $x_0$, an error tolerance, `tol`, and a maximum number of iterations, $N$, and outputs the fixed point of g, obtained using the fixed point method, starting with $x_0$. Your function should have an error defined by $E = |x_n - x_{n-1}|$, which is the absolute difference between the last two iterations, and stop when that error is less than the tolerance, or if the number of iterations exceeds $N$ - whichever happens first. Your function header should look something like:\n",
    "\n",
    "`function [c, n, err] = fixed_point_method(g, x0, tol, N)`"
   ]
  },
  {
   "cell_type": "code",
   "execution_count": 7,
   "id": "f85be1e5-b190-47d5-bcd7-baaa2773b76f",
   "metadata": {},
   "outputs": [
    {
     "ename": "SyntaxError",
     "evalue": "incomplete input (1410303702.py, line 26)",
     "output_type": "error",
     "traceback": [
      "\u001b[0;36m  Cell \u001b[0;32mIn[7], line 26\u001b[0;36m\u001b[0m\n\u001b[0;31m    return(x,\u001b[0m\n\u001b[0m              ^\u001b[0m\n\u001b[0;31mSyntaxError\u001b[0m\u001b[0;31m:\u001b[0m incomplete input\n"
     ]
    }
   ],
   "source": [
    "# function assumes x_0 = 0, tol = 10^-5, and N = 100 if no\n",
    "# other values are specified\n",
    "# ---------------------------------------------------------\n",
    "def fixed_point_method(g: Callable, x_0: float = 0, tol: float = 1e-5, N: int = 100) -> (float, int, float):\n",
    "    # check if g is a function\n",
    "    if(not callable(g)):\n",
    "        print(\"g(x) must be callable (e.g., a function).\")\n",
    "        return\n",
    "\n",
    "    # check if x_0 and tol are numbers\n",
    "    numbers = [int, float]\n",
    "    if(type(x_0) not in numbers or type(tol) not in numbers):\n",
    "        print(\"x_0 and tol must be numbers.\")\n",
    "        return\n",
    "\n",
    "    # check if N is a natural number\n",
    "    if(type(N) != int or N < 1):\n",
    "        print(\"N must be a natural number\")\n",
    "        return\n",
    "\n",
    "    # start iterating\n",
    "    for i in range(N):\n",
    "        # evaluate at current guess\n",
    "        c = g(x)\n",
    "        if(abs(c - x) < tol):\n",
    "            return(x, "
   ]
  },
  {
   "cell_type": "code",
   "execution_count": null,
   "id": "3cd1d884-a52c-492c-8e32-a1251df4ffee",
   "metadata": {},
   "outputs": [],
   "source": [
    "\n"
   ]
  }
 ],
 "metadata": {
  "kernelspec": {
   "display_name": "Python 3 (ipykernel)",
   "language": "python",
   "name": "python3"
  },
  "language_info": {
   "codemirror_mode": {
    "name": "ipython",
    "version": 3
   },
   "file_extension": ".py",
   "mimetype": "text/x-python",
   "name": "python",
   "nbconvert_exporter": "python",
   "pygments_lexer": "ipython3",
   "version": "3.12.4"
  }
 },
 "nbformat": 4,
 "nbformat_minor": 5
}
