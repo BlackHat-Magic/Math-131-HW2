{
 "cells": [
  {
   "cell_type": "code",
   "execution_count": 24,
   "id": "18755fa7-522a-4c0b-8f9b-df1fe0a01cd8",
   "metadata": {},
   "outputs": [],
   "source": [
    "from sympy.solvers import solve, nsolve\n",
    "from sympy import Symbol\n",
    "from typing import Callable\n",
    "import matplotlib.pyplot as plt\n",
    "import numpy, math, sympy"
   ]
  },
  {
   "cell_type": "markdown",
   "id": "c009eaa6-b4a8-4319-a3ec-340b761ee707",
   "metadata": {},
   "source": [
    "# Problem 4\n",
    "\n",
    "Write a `MATLAB` funcion, called `bisection_method` that takes as inputs a function $f$, two numbers $a$, $b$, an error tolerance, `tol`, and a maximum number of iterations, $N$, and finds a root $c$ of $f$ in the interval $[a , b]$ using the bisection method. Your function should compute a bound on the error, and stop when the error is less than the tolerance, or if the number of iterations exceeds $N$ - whichever happens first."
   ]
  },
  {
   "cell_type": "markdown",
   "id": "4648778a-65ac-4f64-981a-d92bf56652c1",
   "metadata": {},
   "source": [
    "## Function Definition"
   ]
  },
  {
   "cell_type": "code",
   "execution_count": 6,
   "id": "6a9026c0-d868-49c1-a0d9-910d4783f601",
   "metadata": {},
   "outputs": [],
   "source": [
    "# function assumes max iterations is 100 if another maximum is not provided\n",
    "def bisection_method(f: Callable, a: float, b: float, tol: float, N: int = 100) -> (float, int, float):\n",
    "    # make sure a, b, and tol are floats\n",
    "    numbers = [int, float]\n",
    "    if(type(a) not in numbers or type(b) not in numbers or type(tol) not in numbers):\n",
    "        print(\"a, b, and tol must be numbers\")\n",
    "        return\n",
    "\n",
    "    # make sure N is an integer\n",
    "    if(type(N) != int or N < 1):\n",
    "        print(\"N must be a natural number.\")\n",
    "        return\n",
    "\n",
    "    # make sure f(x) is callable\n",
    "    if(not callable(f)):\n",
    "        print(\"f(x) must be callable (e.g., a function)\")\n",
    "        return\n",
    "\n",
    "    # make sure bisection method is cool\n",
    "    if(f(a) * f(b) > 0):\n",
    "        return\n",
    "\n",
    "    # start iterating\n",
    "    err = (b - a) / 2\n",
    "    for i in range(N):\n",
    "        # start evaluating at the halfway point\n",
    "        c = (a + b) / 2\n",
    "        \n",
    "        # if we're in the tolerance range, exit the function\n",
    "        if(err < tol):\n",
    "            return(c, i + 1, err)\n",
    "\n",
    "        # if f(c) == 0, we found a root\n",
    "        if(f(c) == 0):\n",
    "            return(c, i + 1, err)\n",
    "\n",
    "        # otherwise, narrow down the search range\n",
    "        if(f(a) * f(c) < 0):\n",
    "            b = c\n",
    "        else:\n",
    "            a = c\n",
    "        err = (b - a) / 2\n",
    "\n",
    "    # if we exceeded maximum iterations, just return what we \n",
    "    # found\n",
    "    # if I were putting this in some larger code base, I would \n",
    "    # probably include whether we exceeded the maximum\n",
    "    # iterations in the return value, since the function might\n",
    "    # get used in a way such that the user can't be expected to\n",
    "    # look at the terminal (e.g., as a module)\n",
    "    # ---------------------------------------------------------\n",
    "    print(\"Maximum iterations exceeded.\")\n",
    "    return(c, i, err)"
   ]
  },
  {
   "cell_type": "markdown",
   "id": "e1b7ba0a-823f-4b4e-890a-eb8861973ec7",
   "metadata": {},
   "source": [
    "## Problem 4(c)"
   ]
  },
  {
   "cell_type": "code",
   "execution_count": 33,
   "id": "9a063ea3-396b-4751-9216-89b1738dd7d6",
   "metadata": {},
   "outputs": [
    {
     "data": {
      "text/plain": [
       "0.43856048583984375"
      ]
     },
     "execution_count": 33,
     "metadata": {},
     "output_type": "execute_result"
    }
   ],
   "source": [
    "f = lambda x: (2*x**3 + 3*x - 1)*math.cos(x) - x\n",
    "a = -1\n",
    "b = 1\n",
    "tol = 1e-5 # python allows E notation for floats\n",
    "\n",
    "root, iterations, error = bisection_method(f, a, b, tol)\n",
    "root"
   ]
  },
  {
   "cell_type": "markdown",
   "id": "952cb844-422c-4cbe-81fc-ae85859dd031",
   "metadata": {},
   "source": [
    "### Problem 4(c.i)\n",
    "\n",
    "What is the number, $n$, of iterations used?"
   ]
  },
  {
   "cell_type": "code",
   "execution_count": 8,
   "id": "f92d6a64-83db-4a7d-91aa-469e4277e1f3",
   "metadata": {},
   "outputs": [
    {
     "data": {
      "text/plain": [
       "18"
      ]
     },
     "execution_count": 8,
     "metadata": {},
     "output_type": "execute_result"
    }
   ],
   "source": [
    "iterations"
   ]
  },
  {
   "cell_type": "markdown",
   "id": "d538ad3d-8922-4f52-8554-96c4d509191c",
   "metadata": {},
   "source": [
    "### Problem 4(c.ii)\n",
    "\n",
    "What is the error bound?"
   ]
  },
  {
   "cell_type": "code",
   "execution_count": 9,
   "id": "89a46cd0-9b53-40e7-bad8-eb4c6ea2414b",
   "metadata": {},
   "outputs": [
    {
     "data": {
      "text/plain": [
       "7.62939453125e-06"
      ]
     },
     "execution_count": 9,
     "metadata": {},
     "output_type": "execute_result"
    }
   ],
   "source": [
    "error"
   ]
  },
  {
   "cell_type": "markdown",
   "id": "28cad282-a316-4a18-9c32-f184deac1c2c",
   "metadata": {},
   "source": [
    "This is approximately equivalent to $7.6294 \\times 10^{-6}$"
   ]
  },
  {
   "cell_type": "markdown",
   "id": "66101369-228b-427b-b574-d9dfd3dfb140",
   "metadata": {},
   "source": [
    "### Problem 4(c.iii)\n",
    "\n",
    "The expected rate of convergence for the bisection method can be expressed as $|x_n - c| \\leq \\frac{b - a}{2^n}$ where $n \\in \\mathbb{N}$. The big-O notation for this is $O(2^{-n})$"
   ]
  },
  {
   "cell_type": "markdown",
   "id": "06035295-42e6-4147-a923-7617c3ace4c2",
   "metadata": {},
   "source": [
    "### Problem 4(c.iv)\n",
    "\n",
    "Plot on the same graph the function $f$ and the axis $y = 0$ using the `hold on` command."
   ]
  },
  {
   "cell_type": "code",
   "execution_count": 35,
   "id": "b2af3e85-f09f-4891-aa50-5bc41e2bca6a",
   "metadata": {},
   "outputs": [
    {
     "data": {
      "image/png": "[encoded data removed]",
      "text/plain": [
       "<Figure size 640x480 with 1 Axes>"
      ]
     },
     "metadata": {},
     "output_type": "display_data"
    }
   ],
   "source": [
    "y_axis = numpy.arange(-1., 1., 0.01)\n",
    "plt.plot(y_axis, [f(point) for point in y_axis])\n",
    "plt.plot(y_axis, y_axis, \"k\", linewidth=0.5)\n",
    "plt.show()"
   ]
  },
  {
   "cell_type": "markdown",
   "id": "0e92b3a1-d93f-460a-82c6-53090684570d",
   "metadata": {},
   "source": [
    "### Problem 4(c.v)\n",
    "\n",
    "Using the built-in function solve from Matlab, compute the exact root and compare it to your solution."
   ]
  },
  {
   "cell_type": "code",
   "execution_count": 22,
   "id": "20944946-b026-4e3b-8ef1-cf148e39f371",
   "metadata": {},
   "outputs": [
    {
     "ename": "NotImplementedError",
     "evalue": "multiple generators [x, cos(x)]\nNo algorithms are implemented to solve equation -x + (2*x**3 + 3*x - 1)*cos(x)",
     "output_type": "error",
     "traceback": [
      "\u001b[0;31m---------------------------------------------------------------------------\u001b[0m",
      "\u001b[0;31mNotImplementedError\u001b[0m                       Traceback (most recent call last)",
      "Cell \u001b[0;32mIn[22], line 3\u001b[0m\n\u001b[1;32m      1\u001b[0m x \u001b[38;5;241m=\u001b[39m Symbol(\u001b[38;5;124m\"\u001b[39m\u001b[38;5;124mx\u001b[39m\u001b[38;5;124m\"\u001b[39m)\n\u001b[1;32m      2\u001b[0m equation \u001b[38;5;241m=\u001b[39m (\u001b[38;5;241m2\u001b[39m\u001b[38;5;241m*\u001b[39mx\u001b[38;5;241m*\u001b[39m\u001b[38;5;241m*\u001b[39m\u001b[38;5;241m3\u001b[39m \u001b[38;5;241m+\u001b[39m \u001b[38;5;241m3\u001b[39m\u001b[38;5;241m*\u001b[39mx \u001b[38;5;241m-\u001b[39m \u001b[38;5;241m1\u001b[39m)\u001b[38;5;241m*\u001b[39msympy\u001b[38;5;241m.\u001b[39mcos(x) \u001b[38;5;241m-\u001b[39m x\n\u001b[0;32m----> 3\u001b[0m \u001b[43msolve\u001b[49m\u001b[43m(\u001b[49m\u001b[43mequation\u001b[49m\u001b[43m,\u001b[49m\u001b[43m \u001b[49m\u001b[43mx\u001b[49m\u001b[43m)\u001b[49m\n",
      "File \u001b[0;32m~/Documents/Projects/Math-131-HW2/env/lib/python3.12/site-packages/sympy/solvers/solvers.py:1145\u001b[0m, in \u001b[0;36msolve\u001b[0;34m(f, *symbols, **flags)\u001b[0m\n\u001b[1;32m   1143\u001b[0m         solution \u001b[38;5;241m=\u001b[39m _solve_undetermined(f[\u001b[38;5;241m0\u001b[39m], symbols, flags)\n\u001b[1;32m   1144\u001b[0m     \u001b[38;5;28;01mif\u001b[39;00m \u001b[38;5;129;01mnot\u001b[39;00m solution:\n\u001b[0;32m-> 1145\u001b[0m         solution \u001b[38;5;241m=\u001b[39m \u001b[43m_solve\u001b[49m\u001b[43m(\u001b[49m\u001b[43mf\u001b[49m\u001b[43m[\u001b[49m\u001b[38;5;241;43m0\u001b[39;49m\u001b[43m]\u001b[49m\u001b[43m,\u001b[49m\u001b[43m \u001b[49m\u001b[38;5;241;43m*\u001b[39;49m\u001b[43msymbols\u001b[49m\u001b[43m,\u001b[49m\u001b[43m \u001b[49m\u001b[38;5;241;43m*\u001b[39;49m\u001b[38;5;241;43m*\u001b[39;49m\u001b[43mflags\u001b[49m\u001b[43m)\u001b[49m\n\u001b[1;32m   1146\u001b[0m \u001b[38;5;28;01melse\u001b[39;00m:\n\u001b[1;32m   1147\u001b[0m     linear, solution \u001b[38;5;241m=\u001b[39m _solve_system(f, symbols, \u001b[38;5;241m*\u001b[39m\u001b[38;5;241m*\u001b[39mflags)\n",
      "File \u001b[0;32m~/Documents/Projects/Math-131-HW2/env/lib/python3.12/site-packages/sympy/solvers/solvers.py:1693\u001b[0m, in \u001b[0;36m_solve\u001b[0;34m(f, *symbols, **flags)\u001b[0m\n\u001b[1;32m   1690\u001b[0m \u001b[38;5;66;03m# ----------- end of fallback ----------------------------\u001b[39;00m\n\u001b[1;32m   1692\u001b[0m \u001b[38;5;28;01mif\u001b[39;00m result \u001b[38;5;129;01mis\u001b[39;00m \u001b[38;5;28;01mFalse\u001b[39;00m:\n\u001b[0;32m-> 1693\u001b[0m     \u001b[38;5;28;01mraise\u001b[39;00m \u001b[38;5;167;01mNotImplementedError\u001b[39;00m(\u001b[38;5;124m'\u001b[39m\u001b[38;5;130;01m\\n\u001b[39;00m\u001b[38;5;124m'\u001b[39m\u001b[38;5;241m.\u001b[39mjoin([msg, not_impl_msg \u001b[38;5;241m%\u001b[39m f]))\n\u001b[1;32m   1695\u001b[0m result \u001b[38;5;241m=\u001b[39m _remove_duplicate_solutions(result)\n\u001b[1;32m   1697\u001b[0m \u001b[38;5;28;01mif\u001b[39;00m flags\u001b[38;5;241m.\u001b[39mget(\u001b[38;5;124m'\u001b[39m\u001b[38;5;124msimplify\u001b[39m\u001b[38;5;124m'\u001b[39m, \u001b[38;5;28;01mTrue\u001b[39;00m):\n",
      "\u001b[0;31mNotImplementedError\u001b[0m: multiple generators [x, cos(x)]\nNo algorithms are implemented to solve equation -x + (2*x**3 + 3*x - 1)*cos(x)"
     ]
    }
   ],
   "source": [
    "x = Symbol(\"x\")\n",
    "equation = (2*x**3 + 3*x - 1)*sympy.cos(x) - x\n",
    "solve(equation, x)"
   ]
  },
  {
   "cell_type": "markdown",
   "id": "ea355c57-6f35-48e4-8ff5-ee3fac6e020b",
   "metadata": {},
   "source": [
    "The above code doesn't work because sympy does not have an algorithm to solve an equation with so many roots. What we can do instead is give it some initial guesses to start with."
   ]
  },
  {
   "cell_type": "code",
   "execution_count": 46,
   "id": "df9b44b6-2c97-4e2a-9a36-4c7536d28765",
   "metadata": {},
   "outputs": [
    {
     "data": {
      "text/plain": [
       "[-1.44320061496181, 0.438567457709801]"
      ]
     },
     "execution_count": 46,
     "metadata": {},
     "output_type": "execute_result"
    }
   ],
   "source": [
    "guesses = numpy.arange(-1, 1, 0.01)\n",
    "solutions = [nsolve(equation, x, guess) for guess in guesses]\n",
    "\n",
    "# remove duplicates\n",
    "solutions = list(set(solutions))\n",
    "\n",
    "# remove stuff outside range\n",
    "[solutions.remove(solution) if abs(solution) > 1 else 1 + 1 for solution in solutions]\n",
    "\n",
    "# the set() constructor does not preseve order\n",
    "solutions.sort()\n",
    "solutions"
   ]
  },
  {
   "cell_type": "markdown",
   "id": "52ecef68-a052-4132-b0e8-7780d753f1f3",
   "metadata": {},
   "source": [
    "# Problem 5\n",
    "\n",
    "Write a `MATLAB` function, called `fixed_point_method` that takes as inputs a function, $g$, an initial guess $x_0$, an error tolerance, `tol`, and a maximum number of iterations, $N$, and outputs the fixed point of g, obtained using the fixed point method, starting with $x_0$. Your function should have an error defined by $E = |x_n - x_{n-1}|$, which is the absolute difference between the last two iterations, and stop when that error is less than the tolerance, or if the number of iterations exceeds $N$ - whichever happens first. Your function header should look something like:\n",
    "\n",
    "`function [c, n, err] = fixed_point_method(g, x0, tol, N)`"
   ]
  },
  {
   "cell_type": "code",
   "execution_count": 34,
   "id": "f85be1e5-b190-47d5-bcd7-baaa2773b76f",
   "metadata": {},
   "outputs": [],
   "source": [
    "# function assumes x_0 = 0, tol = 10^-5, and N = 100 if no\n",
    "# other values are specified\n",
    "# ---------------------------------------------------------\n",
    "def fixed_point_method(g: Callable, x_0: float = 0, tol: float = 1e-5, N: int = 100) -> (float, int, float):\n",
    "    # check if g is a function\n",
    "    if(not callable(g)):\n",
    "        print(\"g(x) must be callable (e.g., a function).\")\n",
    "        return\n",
    "\n",
    "    # check if x_0 and tol are numbers\n",
    "    numbers = [int, float]\n",
    "    if(type(x_0) not in numbers or type(tol) not in numbers):\n",
    "        print(\"x_0 and tol must be numbers.\")\n",
    "        return\n",
    "\n",
    "    # check if N is a natural number\n",
    "    if(type(N) != int or N < 1):\n",
    "        print(\"N must be a natural number\")\n",
    "        return\n",
    "\n",
    "    # start iterating\n",
    "    for i in range(N):\n",
    "        print(x_0)\n",
    "        # evaluate at current guess\n",
    "        c = g(x_0)\n",
    "        err = abs(c - x_0)\n",
    "        if(abs(c - x_0) < tol):\n",
    "            return(c, i, err)\n",
    "        x_0 = c\n",
    "\n",
    "    # if we exceeded maximum iterations, just return what we \n",
    "    # found\n",
    "    # same as before about including this fact in return value\n",
    "    # ---------------------------------------------------------\n",
    "    print(\"Maximum iterations exceeded\")\n",
    "    return(x, i, err)"
   ]
  },
  {
   "cell_type": "markdown",
   "id": "a78905d7-951c-41d5-a49e-6e8740315010",
   "metadata": {},
   "source": [
    "# Problem 6"
   ]
  },
  {
   "cell_type": "markdown",
   "id": "aa3b7149-6744-4394-9f02-f614d1249886",
   "metadata": {},
   "source": [
    "Write a `MATLAB` function, called `Newtons_method` that takes as inputs a function, $f$, its derivative, $f'$, an initial guess $x_0$, an error tolerance, `tol`, and a maximum number of iterations, $N$, and outputs the root of $f$ obtained using Newton's method (denoted by $c$). Your function should have an error defined by `err = |`$x_n - x_{n-1}$`|`, and stop when the error is less than the tolerance, or if the number of iterations exceeds $N$ - whichever happens first. Your function header should look something like:\n",
    "\n",
    "`function [c, n, err] = Newtons_method(f, fp, x0, tol, N)`\n",
    "\n",
    "Where `n` is the last iteration when you stop.\n",
    "\n",
    "Use the function you created to find the root of the equation $arctan(x) = 1$ with an initial guess $x_0 = 2$, to an accuracy of less than $tol = 10^{-8}$. **(Written)** Did your method converge, and if so, how many iterations did it take? If not, why didn't it converge, and what happened-did it diverge, or end up in an infinite loop? Plot on the same graph the function and the axis $y = 0$. Test with $x_0 = -2$. What is happening?"
   ]
  },
  {
   "cell_type": "code",
   "execution_count": 57,
   "id": "7be7465d-fa8c-4c87-9f36-c1b74dacb0f8",
   "metadata": {},
   "outputs": [],
   "source": [
    "def newtons_method(f: callable, fp: callable, x_0: float = 0, tol: float = 1e-5, n: int = 100) -> (float, int, float):\n",
    "    # make sure a, b, and tol are floats\n",
    "    numbers = [int, float]\n",
    "    if(type(x_0) not in numbers or type(tol) not in numbers):\n",
    "        print(\"x_0 and tol must be numbers\")\n",
    "        return\n",
    "\n",
    "    # make sure N is an integer\n",
    "    if(type(n) != int or n < 1):\n",
    "        print(\"n must be a natural number.\")\n",
    "        return\n",
    "\n",
    "    # make sure f(x) is callable\n",
    "    if(not callable(f)):\n",
    "        print(\"f(x) must be callable (e.g., a function)\")\n",
    "        return\n",
    "\n",
    "    # make sure method is cool\n",
    "    # if(f(a) * f(b) > 0):\n",
    "    #     return\n",
    "\n",
    "    # a function to approximate the derivative\n",
    "\n",
    "    # start iterating\n",
    "    for i in range(n):\n",
    "        # approximate derivative, detect divergence\n",
    "        try:\n",
    "            f_prime = fp(x_0)\n",
    "        except OverflowError:\n",
    "            print(\"function diverges\")\n",
    "            return(float(\"inf\"), i, float(\"inf\"))\n",
    "        except Exeption as e:\n",
    "            print(f\"Other error: {e}\")\n",
    "            return\n",
    "        j = 0\n",
    "\n",
    "        # try to escape local minima\n",
    "        for j in range(n):\n",
    "            if(f_prime != 0):\n",
    "                break\n",
    "            x_0 += tol\n",
    "            # detect divergence\n",
    "            try:\n",
    "                f_prime = fp(x_0)\n",
    "            except OverflowError:\n",
    "                print(\"function diverges\")\n",
    "                return(float(\"inf\"), i, float(\"inf\"))\n",
    "            except Exeption as e:\n",
    "                print(f\"Other error: {e}\")\n",
    "                return\n",
    "        if(f_prime == 0):\n",
    "            print(\"stuck in local extrema\")\n",
    "            return\n",
    "        \n",
    "        # find the root guess\n",
    "        c = x_0 - f(x_0) / f_prime\n",
    "        err = abs(c - x_0)\n",
    "\n",
    "        # if step size is smaller than tolerance, return\n",
    "        if(abs(err) < tol):\n",
    "            return(c, i + 1, err)\n",
    "\n",
    "        # if f(c) == 0, we found the root\n",
    "        if(f(c) == 0):\n",
    "            return(c, i + 1, err)\n",
    "\n",
    "        # otherwise continue search from c\n",
    "        x_0 = c\n",
    "\n",
    "    # if the loop completes, that means we exceeded the\n",
    "    # iteration number. In that case, we return what we found\n",
    "    # ---------------------------------------------------------\n",
    "    print(\"Maximum iterations exceeded\")\n",
    "    return(x_n, i, err)"
   ]
  },
  {
   "cell_type": "code",
   "execution_count": 65,
   "id": "dc3a2a94-6b82-4e99-a6c0-b3787aba07a0",
   "metadata": {},
   "outputs": [
    {
     "data": {
      "text/plain": [
       "(1.5574077246549023, 5, 2.1656010318338303e-11)"
      ]
     },
     "execution_count": 65,
     "metadata": {},
     "output_type": "execute_result"
    }
   ],
   "source": [
    "newtons_method(lambda x: math.atan(x) - 1, lambda x: 1 / (x**2 + 1), x_0=2, tol=1e-8)"
   ]
  },
  {
   "cell_type": "code",
   "execution_count": 64,
   "id": "a5e06005-52de-4e92-97a4-86acead42c8e",
   "metadata": {},
   "outputs": [
    {
     "name": "stdout",
     "output_type": "stream",
     "text": [
      "function diverges\n"
     ]
    },
    {
     "data": {
      "text/plain": [
       "(inf, 9, inf)"
      ]
     },
     "execution_count": 64,
     "metadata": {},
     "output_type": "execute_result"
    }
   ],
   "source": [
    "newtons_method(lambda x: math.atan(x) - 1, lambda x: 1 / (x**2 + 1), x_0=-2, tol=1e-8)"
   ]
  },
  {
   "cell_type": "markdown",
   "id": "41759fa3-4eb4-48f0-87e5-2be291bc64f3",
   "metadata": {},
   "source": [
    "The method converges when $x_0 = 2$ in five iterations."
   ]
  },
  {
   "cell_type": "code",
   "execution_count": null,
   "id": "b2f7914a-ffd6-4b00-8c3c-b7fd25a9beee",
   "metadata": {},
   "outputs": [],
   "source": []
  },
  {
   "cell_type": "markdown",
   "id": "9e2b5536-75e2-498c-8e0a-5154b8da360a",
   "metadata": {},
   "source": [
    "# Problem 8"
   ]
  },
  {
   "cell_type": "code",
   "execution_count": 56,
   "id": "86d1491a-51d2-4f94-8725-e16aca79d08d",
   "metadata": {},
   "outputs": [
    {
     "ename": "ZeroDivisionError",
     "evalue": "division by zero",
     "output_type": "error",
     "traceback": [
      "\u001b[0;31m---------------------------------------------------------------------------\u001b[0m",
      "\u001b[0;31mZeroDivisionError\u001b[0m                         Traceback (most recent call last)",
      "Cell \u001b[0;32mIn[56], line 1\u001b[0m\n\u001b[0;32m----> 1\u001b[0m \u001b[38;5;241;43m1\u001b[39;49m\u001b[43m \u001b[49m\u001b[38;5;241;43m/\u001b[39;49m\u001b[43m \u001b[49m\u001b[38;5;241;43m0\u001b[39;49m \u001b[38;5;241m==\u001b[39m \u001b[38;5;167;01mZeroDivisionError\u001b[39;00m\n",
      "\u001b[0;31mZeroDivisionError\u001b[0m: division by zero"
     ]
    }
   ],
   "source": []
  },
  {
   "cell_type": "code",
   "execution_count": null,
   "id": "7b1edeb4-f67b-4839-8884-ae60356fd2d5",
   "metadata": {},
   "outputs": [],
   "source": []
  }
 ],
 "metadata": {
  "kernelspec": {
   "display_name": "Python 3 (ipykernel)",
   "language": "python",
   "name": "python3"
  },
  "language_info": {
   "codemirror_mode": {
    "name": "ipython",
    "version": 3
   },
   "file_extension": ".py",
   "mimetype": "text/x-python",
   "name": "python",
   "nbconvert_exporter": "python",
   "pygments_lexer": "ipython3",
   "version": "3.12.4"
  }
 },
 "nbformat": 4,
 "nbformat_minor": 5
}
